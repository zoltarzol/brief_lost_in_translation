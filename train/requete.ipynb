{
 "cells": [
  {
   "cell_type": "code",
   "execution_count": 1,
   "metadata": {},
   "outputs": [],
   "source": [
    "import requests , json , datetime \n",
    "from pprint import pprint\n",
    "import dateutil"
   ]
  },
  {
   "cell_type": "code",
   "execution_count": 13,
   "metadata": {},
   "outputs": [
    {
     "name": "stdout",
     "output_type": "stream",
     "text": [
      "['2016/01', '2016/02', '2016/03', '2016/04', '2016/05', '2016/06', '2016/07', '2016/08', '2016/09', '2016/10', '2016/11', '2016/12', '2017/01', '2017/02', '2017/03', '2017/04', '2017/05', '2017/06', '2017/07', '2017/08', '2017/09', '2017/10', '2017/11', '2017/12', '2018/01', '2018/02', '2018/03', '2018/04', '2018/05', '2018/06', '2018/07', '2018/08', '2018/09', '2018/10', '2018/11', '2018/12', '2019/01', '2019/02', '2019/03', '2019/04', '2019/05', '2019/06', '2019/07', '2019/08', '2019/09', '2019/10', '2019/11', '2019/12', '2020/01', '2020/02', '2020/03', '2020/04', '2020/05', '2020/06', '2020/07', '2020/08', '2020/09', '2020/10', '2020/11', '2020/12', '2021/01', '2021/02', '2021/03', '2021/04', '2021/05', '2021/06', '2021/07', '2021/08', '2021/09', '2021/10', '2021/11', '2021/12']\n"
     ]
    }
   ],
   "source": [
    "# faire une requete , on boucle par mois et par année \n",
    "xox = []\n",
    "liste_mois = [\"01\",\"02\",\"03\",\"04\",\"05\",\"06\",\"07\",\"08\",\"09\",\"10\",\"11\",\"12\"]\n",
    "liste_annee = [\"2016\",\"2017\",\"2018\",\"2019\",\"2020\",\"2021\"]\n",
    "test = liste_annee[0] +\"/\" +liste_mois[0]\n",
    "for i in range(0,6):\n",
    "    for j in range(0,12):\n",
    "        xox.append(liste_annee[i]+\"/\"+liste_mois[j])\n",
    "print(xox)\n",
    "\n",
    "    "
   ]
  },
  {
   "cell_type": "code",
   "execution_count": null,
   "metadata": {},
   "outputs": [],
   "source": [
    "URL = \"https://ressources.data.sncf.com/api/records/1.0/search/\" # trouver l'url \n",
    "\n"
   ]
  },
  {
   "cell_type": "code",
   "execution_count": 16,
   "metadata": {},
   "outputs": [],
   "source": [
    "URL= \"https://ressources.data.sncf.com/api/records/1.0/search/\""
   ]
  },
  {
   "cell_type": "code",
   "execution_count": 19,
   "metadata": {},
   "outputs": [],
   "source": [
    "params = { # dataset recuperer le nom du dataset \n",
    "    \"dataset\": 'objets-trouves-restitution',\n",
    "    \"rows\": \"-1\",\n",
    "    'refine.date': \"2016/01\"\n",
    "    }"
   ]
  },
  {
   "cell_type": "code",
   "execution_count": null,
   "metadata": {},
   "outputs": [],
   "source": [
    "start_date = datetime.datetime.strptime(\"01/01/2016\",\"%d/%m/%Y\")\n",
    "end_date = datetime.datetime.strptime(\"31/12/2021\",\"%d/%m/%Y\")\n",
    "current_date = start_date\n",
    "response = []\n",
    "\n",
    "while(current_date <= end_date):\n",
    "    params[\"refine.date\"] = str(current_date.year)+\"/\"+str(current_date.month)\n",
    "    response.append(requests.get(URL, params = params))\n",
    "    print(\"Retrieving month: \"+str(current_date.year)+\"/\"+str(current_date.month))\n",
    "    current_date += relativedelta(months=+1)"
   ]
  },
  {
   "cell_type": "code",
   "execution_count": null,
   "metadata": {},
   "outputs": [],
   "source": [
    "response = []\n",
    "for element in xox:\n",
    "    params[\"refine.date\"] = str(element)\n",
    "    response.append(requests.get(URL,params=params))\n",
    "    print(element)\n"
   ]
  },
  {
   "cell_type": "code",
   "execution_count": 41,
   "metadata": {},
   "outputs": [
    {
     "name": "stdout",
     "output_type": "stream",
     "text": [
      "7452\n"
     ]
    }
   ],
   "source": [
    "pprint(response[2].json()['nhits'])\n"
   ]
  },
  {
   "cell_type": "code",
   "execution_count": null,
   "metadata": {},
   "outputs": [],
   "source": [
    "response.status_code"
   ]
  },
  {
   "cell_type": "code",
   "execution_count": 52,
   "metadata": {},
   "outputs": [],
   "source": [
    "URL = \"https://public.opendatasoft.com/api/records/1.0/search/\"\n",
    "params = { # dataset recuperer le nom du dataset \n",
    "    \"dataset\": 'donnees-synop-essentielles-omm',\n",
    "    \"rows\": \"-1\",\n",
    "    'timearrange.date' : \"date:[2015-12-31T23:00:00Z TO 2021-12-31T22:59:59Z]\",\n",
    "\n",
    "    }\n",
    "reponse2 = requests.get(URL,params=params)\n",
    "\n",
    "\n"
   ]
  },
  {
   "cell_type": "code",
   "execution_count": 2,
   "metadata": {},
   "outputs": [
    {
     "ename": "NameError",
     "evalue": "name 'params' is not defined",
     "output_type": "error",
     "traceback": [
      "\u001b[0;31m---------------------------------------------------------------------------\u001b[0m",
      "\u001b[0;31mNameError\u001b[0m                                 Traceback (most recent call last)",
      "Cell \u001b[0;32mIn [2], line 7\u001b[0m\n\u001b[1;32m      4\u001b[0m response \u001b[39m=\u001b[39m []\n\u001b[1;32m      6\u001b[0m \u001b[39mwhile\u001b[39;00m(current_date \u001b[39m<\u001b[39m\u001b[39m=\u001b[39m end_date):\n\u001b[0;32m----> 7\u001b[0m     params[\u001b[39m\"\u001b[39m\u001b[39mrefine.date\u001b[39m\u001b[39m\"\u001b[39m] \u001b[39m=\u001b[39m \u001b[39mstr\u001b[39m(current_date\u001b[39m.\u001b[39myear)\u001b[39m+\u001b[39m\u001b[39m\"\u001b[39m\u001b[39m/\u001b[39m\u001b[39m\"\u001b[39m\u001b[39m+\u001b[39m\u001b[39mstr\u001b[39m(current_date\u001b[39m.\u001b[39mmonth)\n\u001b[1;32m      8\u001b[0m     response\u001b[39m.\u001b[39mappend(requests\u001b[39m.\u001b[39mget(URL, params \u001b[39m=\u001b[39m params))\n\u001b[1;32m      9\u001b[0m     \u001b[39mprint\u001b[39m(\u001b[39m\"\u001b[39m\u001b[39mRetrieving month: \u001b[39m\u001b[39m\"\u001b[39m\u001b[39m+\u001b[39m\u001b[39mstr\u001b[39m(current_date\u001b[39m.\u001b[39myear)\u001b[39m+\u001b[39m\u001b[39m\"\u001b[39m\u001b[39m/\u001b[39m\u001b[39m\"\u001b[39m\u001b[39m+\u001b[39m\u001b[39mstr\u001b[39m(current_date\u001b[39m.\u001b[39mmonth))\n",
      "\u001b[0;31mNameError\u001b[0m: name 'params' is not defined"
     ]
    }
   ],
   "source": []
  }
 ],
 "metadata": {
  "kernelspec": {
   "display_name": "Python 3.9.15 ('potages')",
   "language": "python",
   "name": "python3"
  },
  "language_info": {
   "codemirror_mode": {
    "name": "ipython",
    "version": 3
   },
   "file_extension": ".py",
   "mimetype": "text/x-python",
   "name": "python",
   "nbconvert_exporter": "python",
   "pygments_lexer": "ipython3",
   "version": "3.9.15"
  },
  "orig_nbformat": 4,
  "vscode": {
   "interpreter": {
    "hash": "be4f75b9bd78fe2cc5487b34db8fc5f8c44ba010e3355df68b2359faa8da5069"
   }
  }
 },
 "nbformat": 4,
 "nbformat_minor": 2
}
